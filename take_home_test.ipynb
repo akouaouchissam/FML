{
  "nbformat": 4,
  "nbformat_minor": 0,
  "metadata": {
    "colab": {
      "name": "take_home_test.ipynb",
      "provenance": [],
      "collapsed_sections": [],
      "include_colab_link": true
    },
    "kernelspec": {
      "display_name": "Python 3",
      "language": "python",
      "name": "python3"
    },
    "language_info": {
      "codemirror_mode": {
        "name": "ipython",
        "version": 3
      },
      "file_extension": ".py",
      "mimetype": "text/x-python",
      "name": "python",
      "nbconvert_exporter": "python",
      "pygments_lexer": "ipython3",
      "version": "3.9.1"
    },
    "accelerator": "GPU"
  },
  "cells": [
    {
      "cell_type": "markdown",
      "metadata": {
        "id": "view-in-github",
        "colab_type": "text"
      },
      "source": [
        "<a href=\"https://colab.research.google.com/github/akouaouchissam/FML/blob/master/take_home_test.ipynb\" target=\"_parent\"><img src=\"https://colab.research.google.com/assets/colab-badge.svg\" alt=\"Open In Colab\"/></a>"
      ]
    },
    {
      "cell_type": "code",
      "metadata": {
        "id": "d8-kIRU5mew_",
        "colab": {
          "resources": {
            "http://localhost:8080/nbextensions/google.colab/files.js": {
              "data": "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",
              "ok": true,
              "headers": [
                [
                  "content-type",
                  "application/javascript"
                ]
              ],
              "status": 200,
              "status_text": ""
            }
          },
          "base_uri": "https://localhost:8080/",
          "height": 74
        },
        "outputId": "220a2d0e-7f02-4276-f7d1-9626781221e8"
      },
      "source": [
        "import json\n",
        "\n",
        "from google.colab import files\n",
        "\n",
        "license_keys = files.upload()\n",
        "\n",
        "with open(list(license_keys.keys())[0]) as f:\n",
        "    license_keys = json.load(f)"
      ],
      "execution_count": null,
      "outputs": [
        {
          "output_type": "display_data",
          "data": {
            "text/html": [
              "\n",
              "     <input type=\"file\" id=\"files-9a666e64-e692-4ebc-ac58-0f103d750bb8\" name=\"files[]\" multiple disabled\n",
              "        style=\"border:none\" />\n",
              "     <output id=\"result-9a666e64-e692-4ebc-ac58-0f103d750bb8\">\n",
              "      Upload widget is only available when the cell has been executed in the\n",
              "      current browser session. Please rerun this cell to enable.\n",
              "      </output>\n",
              "      <script src=\"/nbextensions/google.colab/files.js\"></script> "
            ],
            "text/plain": [
              "<IPython.core.display.HTML object>"
            ]
          },
          "metadata": {
            "tags": []
          }
        },
        {
          "output_type": "stream",
          "text": [
            "Saving spark_nlp_for_healthcare.json to spark_nlp_for_healthcare.json\n"
          ],
          "name": "stdout"
        }
      ]
    },
    {
      "cell_type": "code",
      "metadata": {
        "id": "hIn5f_zDVS6g",
        "colab": {
          "base_uri": "https://localhost:8080/",
          "height": 35
        },
        "outputId": "b5307773-06a7-4d9a-85a2-e0666eab9c4b"
      },
      "source": [
        "license_keys['JSL_VERSION']"
      ],
      "execution_count": null,
      "outputs": [
        {
          "output_type": "execute_result",
          "data": {
            "application/vnd.google.colaboratory.intrinsic+json": {
              "type": "string"
            },
            "text/plain": [
              "'3.0.2'"
            ]
          },
          "metadata": {
            "tags": []
          },
          "execution_count": 2
        }
      ]
    },
    {
      "cell_type": "code",
      "metadata": {
        "id": "LiJoMmdo_kmQ",
        "colab": {
          "base_uri": "https://localhost:8080/",
          "height": 35
        },
        "outputId": "35bc635f-bb76-4789-f358-fac8addcf0ec"
      },
      "source": [
        "license_keys['PUBLIC_VERSION']"
      ],
      "execution_count": null,
      "outputs": [
        {
          "output_type": "execute_result",
          "data": {
            "application/vnd.google.colaboratory.intrinsic+json": {
              "type": "string"
            },
            "text/plain": [
              "'3.0.2'"
            ]
          },
          "metadata": {
            "tags": []
          },
          "execution_count": 3
        }
      ]
    },
    {
      "cell_type": "code",
      "metadata": {
        "id": "vjvIQUkLBzxz"
      },
      "source": [
        "%%capture\n",
        "for k,v in license_keys.items(): \n",
        "    %set_env $k=$v\n",
        "\n",
        "!wget https://raw.githubusercontent.com/JohnSnowLabs/spark-nlp-workshop/master/jsl_colab_setup.sh\n",
        "!bash jsl_colab_setup.sh\n",
        "\n",
        "! pip install spark-nlp-display"
      ],
      "execution_count": null,
      "outputs": []
    },
    {
      "cell_type": "code",
      "metadata": {
        "id": "ziwjuhAV7DYH",
        "colab": {
          "base_uri": "https://localhost:8080/"
        },
        "outputId": "aac327b0-36f8-42eb-909e-44270b0cb25e"
      },
      "source": [
        "import json\n",
        "import os\n",
        "from pyspark.ml import Pipeline,PipelineModel\n",
        "from pyspark.sql import SparkSession\n",
        "\n",
        "from sparknlp.annotator import *\n",
        "from sparknlp_jsl.annotator import *\n",
        "from sparknlp.base import *\n",
        "import sparknlp_jsl\n",
        "import sparknlp\n",
        "\n",
        "params = {\"spark.driver.memory\":\"16G\",\n",
        "\"spark.kryoserializer.buffer.max\":\"2000M\",\n",
        "\"spark.driver.maxResultSize\":\"2000M\"}\n",
        "\n",
        "spark = sparknlp_jsl.start(license_keys['SECRET'],params=params)\n",
        "\n",
        "print (\"Spark NLP Version :\", sparknlp.version())\n",
        "print (\"Spark NLP_JSL Version :\", sparknlp_jsl.version())"
      ],
      "execution_count": null,
      "outputs": [
        {
          "output_type": "stream",
          "text": [
            "Spark NLP Version : 3.0.2\n",
            "Spark NLP_JSL Version : 3.0.2\n"
          ],
          "name": "stdout"
        }
      ]
    },
    {
      "cell_type": "code",
      "metadata": {
        "id": "nIphAAMNge6q"
      },
      "source": [
        "import pandas as pd\n",
        "df = pd.read_csv('mimic_100_pats.csv', sep=',')\n",
        "df = df[['TEXT']]\n",
        "df = df.rename(columns={\"TEXT\": \"text\"})"
      ],
      "execution_count": null,
      "outputs": []
    },
    {
      "cell_type": "code",
      "metadata": {
        "id": "pCkNhzGKgmzi"
      },
      "source": [
        "train_df = spark.createDataFrame(df[:-10])\n",
        "test_df = spark.createDataFrame(df[-10:])"
      ],
      "execution_count": null,
      "outputs": []
    },
    {
      "cell_type": "code",
      "metadata": {
        "id": "5gVkmsO-hB2J",
        "colab": {
          "base_uri": "https://localhost:8080/"
        },
        "outputId": "b17f531b-1b4a-499f-fe74-a576de894cbf"
      },
      "source": [
        "test_df.show()"
      ],
      "execution_count": null,
      "outputs": [
        {
          "output_type": "stream",
          "text": [
            "+--------------------+\n",
            "|                text|\n",
            "+--------------------+\n",
            "|NICU NURSING ADMI...|\n",
            "|Neonatology\r\r\n",
            "DOL...|\n",
            "|Nursing NICU Note...|\n",
            "|NPN 0700-[**2051*...|\n",
            "|NPN 1900-0700\r\r\n",
            "\r...|\n",
            "|Neonatology\r\r\n",
            "Doi...|\n",
            "|Neonatology NP No...|\n",
            "|Nursing NICU Note...|\n",
            "|Neonatology Atten...|\n",
            "|Neonatology [** 6...|\n",
            "+--------------------+\n",
            "\n"
          ],
          "name": "stdout"
        }
      ]
    },
    {
      "cell_type": "markdown",
      "metadata": {
        "id": "AMU4sAJQ0Rhs"
      },
      "source": [
        "# NER Pipeline"
      ]
    },
    {
      "cell_type": "code",
      "metadata": {
        "colab": {
          "base_uri": "https://localhost:8080/"
        },
        "id": "DEa5SITBxmY0",
        "outputId": "c6f93d85-2eb1-42d2-a876-8adfc04f37da"
      },
      "source": [
        "documentAssembler = DocumentAssembler()\\\n",
        "        .setInputCol(\"text\")\\\n",
        "        .setOutputCol(\"document\")\n",
        "\n",
        "# Sentence Detector\n",
        "sentenceDetector = SentenceDetectorDLModel.pretrained(\"sentence_detector_dl_healthcare\",\"en\",\"clinical/models\")\\\n",
        "        .setInputCols([\"document\"])\\\n",
        "        .setOutputCol(\"sentence\")\n",
        " \n",
        "# splits words\n",
        "tokenizer = Tokenizer()\\\n",
        "        .setInputCols([\"sentence\"])\\\n",
        "        .setOutputCol(\"token\")\n",
        "\n",
        "# Clinical word embeddings\n",
        "word_embeddings = WordEmbeddingsModel.pretrained(\"embeddings_clinical\",\"en\",\"clinical/models\")\\\n",
        "        .setInputCols([\"sentence\",\"token\"])\\\n",
        "        .setOutputCol(\"embeddings\")\n",
        "\n",
        "# NER model\n",
        "clinical_ner = MedicalNerModel.pretrained(\"ner_clinical\",\"en\",\"clinical/models\")\\\n",
        "        .setInputCols([\"sentence\",\"token\",\"embeddings\"])\\\n",
        "        .setOutputCol(\"ner\")\n",
        "\n",
        "ner_converter = NerConverter()\\\n",
        "        .setInputCols([\"sentence\",\"token\",\"ner\"])\\\n",
        "        .setOutputCol(\"ner_chunk\")\n",
        "\n",
        "nlpPipeline = Pipeline(stages=[\n",
        "        documentAssembler,\n",
        "        sentenceDetector,\n",
        "        tokenizer,\n",
        "        word_embeddings,\n",
        "        clinical_ner,\n",
        "        ner_converter])\n",
        "\n",
        "model = nlpPipeline.fit(train_df)\n"
      ],
      "execution_count": null,
      "outputs": [
        {
          "output_type": "stream",
          "text": [
            "sentence_detector_dl_healthcare download started this may take some time.\n",
            "Approximate size to download 363.9 KB\n",
            "[OK!]\n",
            "embeddings_clinical download started this may take some time.\n",
            "Approximate size to download 1.6 GB\n",
            "[OK!]\n",
            "ner_clinical download started this may take some time.\n",
            "Approximate size to download 13.9 MB\n",
            "[OK!]\n"
          ],
          "name": "stdout"
        }
      ]
    },
    {
      "cell_type": "code",
      "metadata": {
        "colab": {
          "base_uri": "https://localhost:8080/"
        },
        "id": "eCPdErQTt9WS",
        "outputId": "ab7d04a8-127e-43df-b155-394b722d347d"
      },
      "source": [
        "model.stages"
      ],
      "execution_count": null,
      "outputs": [
        {
          "output_type": "execute_result",
          "data": {
            "text/plain": [
              "[DocumentAssembler_bf6b9fe6f383,\n",
              " SentenceDetectorDLModel_d2546f0acfe2,\n",
              " REGEX_TOKENIZER_2ab5a7003e66,\n",
              " WORD_EMBEDDINGS_MODEL_9004b1d00302,\n",
              " MedicalNerModel_cd5ce67b529f,\n",
              " NerConverter_eddce64798e2]"
            ]
          },
          "metadata": {
            "tags": []
          },
          "execution_count": 10
        }
      ]
    },
    {
      "cell_type": "code",
      "metadata": {
        "colab": {
          "base_uri": "https://localhost:8080/"
        },
        "id": "m2hXcbMzvUzf",
        "outputId": "ed5b00bb-b829-4211-c5b1-09af214e1364"
      },
      "source": [
        "clinical_ner.getClasses()"
      ],
      "execution_count": null,
      "outputs": [
        {
          "output_type": "execute_result",
          "data": {
            "text/plain": [
              "['O',\n",
              " 'B-TREATMENT',\n",
              " 'I-TREATMENT',\n",
              " 'B-PROBLEM',\n",
              " 'I-PROBLEM',\n",
              " 'B-TEST',\n",
              " 'I-TEST']"
            ]
          },
          "metadata": {
            "tags": []
          },
          "execution_count": 11
        }
      ]
    },
    {
      "cell_type": "code",
      "metadata": {
        "colab": {
          "base_uri": "https://localhost:8080/"
        },
        "id": "rPO8wgprvai_",
        "outputId": "cbc30e1c-aac1-4f8d-dc99-c81046cacf82"
      },
      "source": [
        "clinical_ner.extractParamMap()"
      ],
      "execution_count": null,
      "outputs": [
        {
          "output_type": "execute_result",
          "data": {
            "text/plain": [
              "{Param(parent='MedicalNerModel_cd5ce67b529f', name='batchSize', doc='Size of every batch'): 64,\n",
              " Param(parent='MedicalNerModel_cd5ce67b529f', name='classes', doc='get the tags used to trained this MedicalNerModel'): ['O',\n",
              "  'B-TREATMENT',\n",
              "  'I-TREATMENT',\n",
              "  'B-PROBLEM',\n",
              "  'I-PROBLEM',\n",
              "  'B-TEST',\n",
              "  'I-TEST'],\n",
              " Param(parent='MedicalNerModel_cd5ce67b529f', name='includeConfidence', doc='whether to include confidence scores in annotation metadata'): True,\n",
              " Param(parent='MedicalNerModel_cd5ce67b529f', name='inputCols', doc='previous annotations columns, if renamed'): ['sentence',\n",
              "  'token',\n",
              "  'embeddings'],\n",
              " Param(parent='MedicalNerModel_cd5ce67b529f', name='lazyAnnotator', doc='Whether this AnnotatorModel acts as lazy in RecursivePipelines'): False,\n",
              " Param(parent='MedicalNerModel_cd5ce67b529f', name='outputCol', doc='output annotation column. can be left default.'): 'ner',\n",
              " Param(parent='MedicalNerModel_cd5ce67b529f', name='storageRef', doc='unique reference name for identification'): 'clinical'}"
            ]
          },
          "metadata": {
            "tags": []
          },
          "execution_count": 12
        }
      ]
    },
    {
      "cell_type": "code",
      "metadata": {
        "colab": {
          "base_uri": "https://localhost:8080/",
          "height": 35
        },
        "id": "gGjoRR5Bvj-U",
        "outputId": "9e8f9e5c-381f-4cf8-9046-6ca3e1820140"
      },
      "source": [
        "clinical_ner.getStorageRef()"
      ],
      "execution_count": null,
      "outputs": [
        {
          "output_type": "execute_result",
          "data": {
            "application/vnd.google.colaboratory.intrinsic+json": {
              "type": "string"
            },
            "text/plain": [
              "'clinical'"
            ]
          },
          "metadata": {
            "tags": []
          },
          "execution_count": 13
        }
      ]
    },
    {
      "cell_type": "code",
      "metadata": {
        "colab": {
          "base_uri": "https://localhost:8080/"
        },
        "id": "Kt_9Qfmw30rA",
        "outputId": "2b6be3b1-6eb6-42df-973c-43a65783631a"
      },
      "source": [
        "test_df.printSchema()"
      ],
      "execution_count": null,
      "outputs": [
        {
          "output_type": "stream",
          "text": [
            "root\n",
            " |-- text: string (nullable = true)\n",
            "\n"
          ],
          "name": "stdout"
        }
      ]
    },
    {
      "cell_type": "code",
      "metadata": {
        "id": "7HdysGLU-xfP"
      },
      "source": [
        "result = model.transform(test_df)"
      ],
      "execution_count": null,
      "outputs": []
    },
    {
      "cell_type": "code",
      "metadata": {
        "colab": {
          "base_uri": "https://localhost:8080/"
        },
        "id": "21s1lXkrTXLV",
        "outputId": "b5469dd9-e8f9-4d29-a696-849df2e2e34b"
      },
      "source": [
        "result.show()"
      ],
      "execution_count": null,
      "outputs": [
        {
          "output_type": "stream",
          "text": [
            "+--------------------+--------------------+--------------------+--------------------+--------------------+--------------------+--------------------+\n",
            "|                text|            document|            sentence|               token|          embeddings|                 ner|           ner_chunk|\n",
            "+--------------------+--------------------+--------------------+--------------------+--------------------+--------------------+--------------------+\n",
            "|NICU NURSING ADMI...|[{document, 0, 13...|[{document, 0, 25...|[{token, 0, 3, NI...|[{word_embeddings...|[{named_entity, 0...|[{chunk, 233, 255...|\n",
            "|Neonatology\r\r\n",
            "DOL...|[{document, 0, 66...|[{document, 0, 13...|[{token, 0, 10, N...|[{word_embeddings...|[{named_entity, 0...|[{chunk, 42, 44, ...|\n",
            "|Nursing NICU Note...|[{document, 0, 15...|[{document, 0, 19...|[{token, 0, 6, Nu...|[{word_embeddings...|[{named_entity, 0...|[{chunk, 78, 81, ...|\n",
            "|NPN 0700-[**2051*...|[{document, 0, 80...|[{document, 0, 21...|[{token, 0, 2, NP...|[{word_embeddings...|[{named_entity, 0...|[{chunk, 43, 46, ...|\n",
            "|NPN 1900-0700\r\r\n",
            "\r...|[{document, 0, 90...|[{document, 0, 15...|[{token, 0, 2, NP...|[{word_embeddings...|[{named_entity, 0...|[{chunk, 0, 2, NP...|\n",
            "|Neonatology\r\r\n",
            "Doi...|[{document, 0, 26...|[{document, 0, 13...|[{token, 0, 10, N...|[{word_embeddings...|[{named_entity, 0...|[{chunk, 51, 56, ...|\n",
            "|Neonatology NP No...|[{document, 0, 23...|[{document, 0, 21...|[{token, 0, 10, N...|[{word_embeddings...|[{named_entity, 0...|[{chunk, 22, 47, ...|\n",
            "|Nursing NICU Note...|[{document, 0, 13...|[{document, 0, 19...|[{token, 0, 6, Nu...|[{word_embeddings...|[{named_entity, 0...|[{chunk, 78, 81, ...|\n",
            "|Neonatology Atten...|[{document, 0, 14...|[{document, 0, 23...|[{token, 0, 10, N...|[{word_embeddings...|[{named_entity, 0...|[{chunk, 86, 89, ...|\n",
            "|Neonatology [** 6...|[{document, 0, 59...|[{document, 0, 28...|[{token, 0, 10, N...|[{word_embeddings...|[{named_entity, 0...|[{chunk, 62, 72, ...|\n",
            "+--------------------+--------------------+--------------------+--------------------+--------------------+--------------------+--------------------+\n",
            "\n"
          ],
          "name": "stdout"
        }
      ]
    },
    {
      "cell_type": "code",
      "metadata": {
        "colab": {
          "base_uri": "https://localhost:8080/"
        },
        "id": "OGBHfjMVUoCu",
        "outputId": "9b77b94b-7676-4956-d266-65981f134bde"
      },
      "source": [
        "result.select('token.result','ner.result').show(truncate=100)"
      ],
      "execution_count": null,
      "outputs": [
        {
          "output_type": "stream",
          "text": [
            "+----------------------------------------------------------------------------------------------------+----------------------------------------------------------------------------------------------------+\n",
            "|                                                                                              result|                                                                                              result|\n",
            "+----------------------------------------------------------------------------------------------------+----------------------------------------------------------------------------------------------------+\n",
            "|[NICU, NURSING, ADMIT, NOTE, THIS, IS, A, FULL, TERM, MALE, [, **, **, ], TO, A, 31, YR, OLD, G2,...|[O, O, O, O, O, O, O, O, O, O, O, O, O, O, O, O, O, O, O, O, O, O, O, O, O, O, O, O, O, O, O, O, ...|\n",
            "|[Neonatology, DOL, #13, ,, CGA, 42, weeks, ., CVR, :, Continues, in, NC, 100-175, cc, oxygen, ,, ...|[O, O, O, O, O, O, O, O, B-TEST, O, O, O, B-TREATMENT, O, O, B-TREATMENT, O, O, B-TREATMENT, O, B...|\n",
            "|[Nursing, NICU, Note, #1, ., Respiratory, O, :, Pt, ., remains, in, NC, 125cc, flow, ,, FIO2, ~10...|[O, O, O, O, O, O, O, O, O, O, O, O, O, O, O, O, B-TEST, O, O, B-TEST, O, O, O, B-PROBLEM, I-PROB...|\n",
            "|[NPN, 0700-[**2051**], 1, ., IN, RA, with, sats, 95-100%, ., Lungs, clear, ., RR, 30-60's, ., No,...|[O, O, O, O, O, O, O, B-TEST, O, O, O, O, O, B-TEST, O, O, O, B-PROBLEM, O, O, O, O, O, O, O, O, ...|\n",
            "|[NPN, 1900-0700, RESP, :, Infant, remains, in, NC, 100%, ,, 125-200cc, (, for, O2, sat, goal, >94...|[B-TEST, O, O, O, O, O, O, O, O, O, O, O, O, O, O, O, O, O, B-TEST, O, O, B-TEST, O, O, O, B-PROB...|\n",
            "|[Neonatology, Doing, well, ., remains, in, NCO2, flow, ., No, spells, ., WT, 3425, up, 35, ., Tol...|[O, O, O, O, O, O, O, O, O, O, B-PROBLEM, O, B-TEST, O, O, O, O, O, O, O, O, O, O, O, O, O, O, O,...|\n",
            "|[Neonatology, NP, Note, PE, swaddled, in, open, crib, AFOF, comfortable, respirations, in, NCO2, ...|[O, O, O, B-PROBLEM, I-PROBLEM, I-PROBLEM, I-PROBLEM, I-PROBLEM, O, O, O, O, O, O, O, O, O, O, O,...|\n",
            "|[Nursing, NICU, Note, #1, ., Respiratory, O, :, Pt, ., remains, in, NC, 100cc, flow, ,, FIO2, 100...|[O, O, O, O, O, O, O, O, O, O, O, O, O, O, O, O, B-TEST, O, O, B-TEST, I-TEST, O, O, B-TEST, O, O...|\n",
            "|[Neonatology, Attending, DOL, 3, /, PMA, 40-4/7, week, Remains, in, NC, 150, ml/min, of, 100%, FI...|[O, O, O, O, O, O, O, O, O, O, O, O, O, O, O, B-TREATMENT, O, O, O, B-PROBLEM, O, O, B-PROBLEM, O...|\n",
            "|[Neonatology, [, **, 63**], note, PE, :, NEURO, :, infant, nested, on, open, warmer, ,, active, o...|[O, O, O, O, O, O, O, O, O, O, O, O, B-TREATMENT, I-TREATMENT, O, O, O, B-TEST, O, B-TEST, O, B-T...|\n",
            "+----------------------------------------------------------------------------------------------------+----------------------------------------------------------------------------------------------------+\n",
            "\n"
          ],
          "name": "stdout"
        }
      ]
    },
    {
      "cell_type": "code",
      "metadata": {
        "colab": {
          "base_uri": "https://localhost:8080/"
        },
        "id": "uzkwbP21ydAK",
        "outputId": "b80e3641-4aa4-4cd4-ff6a-88b208355c45"
      },
      "source": [
        "result.select('ner_chunk').take(10)"
      ],
      "execution_count": null,
      "outputs": [
        {
          "output_type": "execute_result",
          "data": {
            "text/plain": [
              "[Row(ner_chunk=[Row(annotatorType='chunk', begin=233, end=255, result=\"SEVERAL DOWN'S FEATURES\", metadata={'sentence': '4', 'chunk': '0', 'entity': 'PROBLEM', 'confidence': '0.56346667'}, embeddings=[]), Row(annotatorType='chunk', begin=419, end=424, result='O2 SAT', metadata={'sentence': '7', 'chunk': '1', 'entity': 'TEST', 'confidence': '0.76240003'}, embeddings=[]), Row(annotatorType='chunk', begin=454, end=469, result='NASAL CANNULA O2', metadata={'sentence': '8', 'chunk': '2', 'entity': 'PROBLEM', 'confidence': '0.48476663'}, embeddings=[]), Row(annotatorType='chunk', begin=518, end=520, result='EKG', metadata={'sentence': '10', 'chunk': '3', 'entity': 'TEST', 'confidence': '0.9942'}, embeddings=[]), Row(annotatorType='chunk', begin=569, end=571, result='ABG', metadata={'sentence': '12', 'chunk': '4', 'entity': 'TEST', 'confidence': '0.9201'}, embeddings=[]), Row(annotatorType='chunk', begin=694, end=699, result='O2 SAT', metadata={'sentence': '14', 'chunk': '5', 'entity': 'TEST', 'confidence': '0.67895'}, embeddings=[]), Row(annotatorType='chunk', begin=705, end=710, result='DUCTAL', metadata={'sentence': '14', 'chunk': '6', 'entity': 'TEST', 'confidence': '0.7273'}, embeddings=[]), Row(annotatorType='chunk', begin=726, end=731, result='DUCTAL', metadata={'sentence': '14', 'chunk': '7', 'entity': 'TEST', 'confidence': '0.9356'}, embeddings=[]), Row(annotatorType='chunk', begin=740, end=755, result='NASAL CANNULA O2', metadata={'sentence': '14', 'chunk': '8', 'entity': 'TREATMENT', 'confidence': '0.5882667'}, embeddings=[]), Row(annotatorType='chunk', begin=837, end=850, result='MURMUR AUDIBLE', metadata={'sentence': '16', 'chunk': '9', 'entity': 'PROBLEM', 'confidence': '0.871'}, embeddings=[]), Row(annotatorType='chunk', begin=862, end=863, result='HR', metadata={'sentence': '17', 'chunk': '10', 'entity': 'TEST', 'confidence': '0.9999'}, embeddings=[]), Row(annotatorType='chunk', begin=964, end=966, result='CBC', metadata={'sentence': '20', 'chunk': '11', 'entity': 'TEST', 'confidence': '0.9992'}, embeddings=[]), Row(annotatorType='chunk', begin=972, end=995, result='BLD CX AND KAROTYPE SENT', metadata={'sentence': '20', 'chunk': '12', 'entity': 'PROBLEM', 'confidence': '0.42224002'}, embeddings=[]), Row(annotatorType='chunk', begin=998, end=1004, result='D/S WAS', metadata={'sentence': '21', 'chunk': '13', 'entity': 'TREATMENT', 'confidence': '0.398'}, embeddings=[]), Row(annotatorType='chunk', begin=1010, end=1018, result='IV PLACED', metadata={'sentence': '21', 'chunk': '14', 'entity': 'TREATMENT', 'confidence': '0.91789997'}, embeddings=[]), Row(annotatorType='chunk', begin=1024, end=1034, result='STARTED IVF', metadata={'sentence': '21', 'chunk': '15', 'entity': 'TREATMENT', 'confidence': '0.58695'}, embeddings=[]), Row(annotatorType='chunk', begin=1039, end=1042, result='D10W', metadata={'sentence': '21', 'chunk': '16', 'entity': 'TREATMENT', 'confidence': '0.9944'}, embeddings=[]), Row(annotatorType='chunk', begin=1047, end=1054, result='60CC/K/D', metadata={'sentence': '21', 'chunk': '17', 'entity': 'TREATMENT', 'confidence': '0.6309'}, embeddings=[]), Row(annotatorType='chunk', begin=1115, end=1121, result='WBC WAS', metadata={'sentence': '23', 'chunk': '18', 'entity': 'TEST', 'confidence': '0.5304'}, embeddings=[]), Row(annotatorType='chunk', begin=1129, end=1132, result='POLY', metadata={'sentence': '23', 'chunk': '19', 'entity': 'TEST', 'confidence': '0.9996'}, embeddings=[]), Row(annotatorType='chunk', begin=1138, end=1142, result='BANDS', metadata={'sentence': '23', 'chunk': '20', 'entity': 'TEST', 'confidence': '0.9998'}, embeddings=[]), Row(annotatorType='chunk', begin=1147, end=1152, result='LYMPHS', metadata={'sentence': '23', 'chunk': '21', 'entity': 'TEST', 'confidence': '0.9997'}, embeddings=[]), Row(annotatorType='chunk', begin=1158, end=1163, result='PLT CT', metadata={'sentence': '23', 'chunk': '22', 'entity': 'TEST', 'confidence': '0.99090004'}, embeddings=[]), Row(annotatorType='chunk', begin=1169, end=1178, result='REPEAT PLT', metadata={'sentence': '24', 'chunk': '23', 'entity': 'TEST', 'confidence': '0.9719'}, embeddings=[]), Row(annotatorType='chunk', begin=1188, end=1197, result='REPEAT HCT', metadata={'sentence': '24', 'chunk': '24', 'entity': 'TEST', 'confidence': '0.7631'}, embeddings=[]), Row(annotatorType='chunk', begin=1225, end=1230, result='PLT CT', metadata={'sentence': '25', 'chunk': '25', 'entity': 'TEST', 'confidence': '0.55865'}, embeddings=[]), Row(annotatorType='chunk', begin=1268, end=1286, result='ALL SYSTEMS CLOSELY', metadata={'sentence': '26', 'chunk': '26', 'entity': 'PROBLEM', 'confidence': '0.6312'}, embeddings=[]), Row(annotatorType='chunk', begin=1305, end=1319, result='BABY NEEDS ECHO', metadata={'sentence': '28', 'chunk': '27', 'entity': 'TEST', 'confidence': '0.50939995'}, embeddings=[]), Row(annotatorType='chunk', begin=1336, end=1349, result='CARDIAC LESION', metadata={'sentence': '28', 'chunk': '28', 'entity': 'PROBLEM', 'confidence': '0.9315'}, embeddings=[])]),\n",
              " Row(ner_chunk=[Row(annotatorType='chunk', begin=42, end=44, result='CVR', metadata={'sentence': '2', 'chunk': '0', 'entity': 'TEST', 'confidence': '0.9985'}, embeddings=[]), Row(annotatorType='chunk', begin=60, end=61, result='NC', metadata={'sentence': '2', 'chunk': '1', 'entity': 'TREATMENT', 'confidence': '0.9623'}, embeddings=[]), Row(annotatorType='chunk', begin=74, end=79, result='oxygen', metadata={'sentence': '2', 'chunk': '2', 'entity': 'TREATMENT', 'confidence': '0.421'}, embeddings=[]), Row(annotatorType='chunk', begin=87, end=90, result='FiO2', metadata={'sentence': '2', 'chunk': '3', 'entity': 'TREATMENT', 'confidence': '0.7206'}, embeddings=[]), Row(annotatorType='chunk', begin=93, end=94, result='RR', metadata={'sentence': '2', 'chunk': '4', 'entity': 'TEST', 'confidence': '0.9998'}, embeddings=[]), Row(annotatorType='chunk', begin=104, end=110, result='O2sats>', metadata={'sentence': '2', 'chunk': '5', 'entity': 'TEST', 'confidence': '0.9994'}, embeddings=[]), Row(annotatorType='chunk', begin=142, end=144, result='MAP', metadata={'sentence': '3', 'chunk': '6', 'entity': 'TEST', 'confidence': '0.9986'}, embeddings=[]), Row(annotatorType='chunk', begin=151, end=152, result='HR', metadata={'sentence': '3', 'chunk': '7', 'entity': 'TEST', 'confidence': '1.0'}, embeddings=[]), Row(annotatorType='chunk', begin=168, end=173, result='murmur', metadata={'sentence': '4', 'chunk': '8', 'entity': 'PROBLEM', 'confidence': '0.9995'}, embeddings=[]), Row(annotatorType='chunk', begin=186, end=187, result='Wt', metadata={'sentence': '5', 'chunk': '9', 'entity': 'TEST', 'confidence': '0.8438'}, embeddings=[]), Row(annotatorType='chunk', begin=379, end=388, result='trisomy 21', metadata={'sentence': '10', 'chunk': '10', 'entity': 'PROBLEM', 'confidence': '0.83809996'}, embeddings=[]), Row(annotatorType='chunk', begin=391, end=412, result='pulmonary hypertension', metadata={'sentence': '10', 'chunk': '11', 'entity': 'PROBLEM', 'confidence': '0.9849'}, embeddings=[]), Row(annotatorType='chunk', begin=426, end=437, result='polycythemia', metadata={'sentence': '10', 'chunk': '12', 'entity': 'PROBLEM', 'confidence': '0.5338'}, embeddings=[]), Row(annotatorType='chunk', begin=477, end=491, result='moderate oxygen', metadata={'sentence': '11', 'chunk': '13', 'entity': 'TREATMENT', 'confidence': '0.83089995'}, embeddings=[]), Row(annotatorType='chunk', begin=560, end=568, result='NC oxygen', metadata={'sentence': '13', 'chunk': '14', 'entity': 'TREATMENT', 'confidence': '0.69505'}, embeddings=[]), Row(annotatorType='chunk', begin=580, end=590, result='repeat ECHO', metadata={'sentence': '14', 'chunk': '15', 'entity': 'TEST', 'confidence': '0.51085'}, embeddings=[]), Row(annotatorType='chunk', begin=616, end=633, result='monitoring feeding', metadata={'sentence': '15', 'chunk': '16', 'entity': 'TEST', 'confidence': '0.4731'}, embeddings=[]), Row(annotatorType='chunk', begin=653, end=655, result='CBC', metadata={'sentence': '16', 'chunk': '17', 'entity': 'TEST', 'confidence': '0.9963'}, embeddings=[])]),\n",
              " Row(ner_chunk=[Row(annotatorType='chunk', begin=78, end=81, result='FIO2', metadata={'sentence': '2', 'chunk': '0', 'entity': 'TEST', 'confidence': '0.9711'}, embeddings=[]), Row(annotatorType='chunk', begin=93, end=94, result='RR', metadata={'sentence': '3', 'chunk': '1', 'entity': 'TEST', 'confidence': '0.9957'}, embeddings=[]), Row(annotatorType='chunk', begin=109, end=134, result='increase work of breathing', metadata={'sentence': '3', 'chunk': '2', 'entity': 'PROBLEM', 'confidence': '0.72702503'}, embeddings=[]), Row(annotatorType='chunk', begin=161, end=165, result=\"A&B's\", metadata={'sentence': '5', 'chunk': '3', 'entity': 'PROBLEM', 'confidence': '0.4648'}, embeddings=[]), Row(annotatorType='chunk', begin=173, end=182, result='this shift', metadata={'sentence': '5', 'chunk': '4', 'entity': 'PROBLEM', 'confidence': '0.92595'}, embeddings=[]), Row(annotatorType='chunk', begin=223, end=227, result='NC O2', metadata={'sentence': '7', 'chunk': '5', 'entity': 'TREATMENT', 'confidence': '0.65375'}, embeddings=[]), Row(annotatorType='chunk', begin=290, end=294, result=\"A&B's\", metadata={'sentence': '8', 'chunk': '6', 'entity': 'PROBLEM', 'confidence': '0.6636'}, embeddings=[]), Row(annotatorType='chunk', begin=315, end=316, result='NC', metadata={'sentence': '9', 'chunk': '7', 'entity': 'TREATMENT', 'confidence': '0.8205'}, embeddings=[]), Row(annotatorType='chunk', begin=350, end=356, result='O2 sats', metadata={'sentence': '9', 'chunk': '8', 'entity': 'TEST', 'confidence': '0.6936'}, embeddings=[]), Row(annotatorType='chunk', begin=414, end=421, result='BM/Sim20', metadata={'sentence': '11', 'chunk': '9', 'entity': 'TREATMENT', 'confidence': '0.9783'}, embeddings=[]), Row(annotatorType='chunk', begin=484, end=491, result='a yellow', metadata={'sentence': '11', 'chunk': '10', 'entity': 'PROBLEM', 'confidence': '0.70725'}, embeddings=[]), Row(annotatorType='chunk', begin=552, end=582, result='some\\r\\r\\nextra chin/cheek support', metadata={'sentence': '13', 'chunk': '11', 'entity': 'TREATMENT', 'confidence': '0.55562496'}, embeddings=[]), Row(annotatorType='chunk', begin=613, end=620, result='pink,+bs', metadata={'sentence': '14', 'chunk': '12', 'entity': 'PROBLEM', 'confidence': '0.983'}, embeddings=[]), Row(annotatorType='chunk', begin=626, end=636, result='loops/spits', metadata={'sentence': '14', 'chunk': '13', 'entity': 'PROBLEM', 'confidence': '0.9944'}, embeddings=[]), Row(annotatorType='chunk', begin=652, end=670, result='voiding/stooling QS', metadata={'sentence': '15', 'chunk': '14', 'entity': 'PROBLEM', 'confidence': '0.80805004'}, embeddings=[]), Row(annotatorType='chunk', begin=765, end=771, result='Monitor', metadata={'sentence': '19', 'chunk': '15', 'entity': 'TEST', 'confidence': '0.9405'}, embeddings=[]), Row(annotatorType='chunk', begin=786, end=796, result='intolerance', metadata={'sentence': '19', 'chunk': '16', 'entity': 'PROBLEM', 'confidence': '0.7746'}, embeddings=[]), Row(annotatorType='chunk', begin=822, end=831, result='oral feeds', metadata={'sentence': '20', 'chunk': '17', 'entity': 'TREATMENT', 'confidence': '0.64675'}, embeddings=[]), Row(annotatorType='chunk', begin=880, end=887, result='swaddled', metadata={'sentence': '22', 'chunk': '18', 'entity': 'PROBLEM', 'confidence': '0.9319'}, embeddings=[]), Row(annotatorType='chunk', begin=1020, end=1054, result='his\\r\\r\\npacifier,brings hands to face', metadata={'sentence': '26', 'chunk': '19', 'entity': 'PROBLEM', 'confidence': '0.59462'}, embeddings=[]), Row(annotatorType='chunk', begin=1062, end=1093, result='Potential alteration in\\r\\r\\ngrowth', metadata={'sentence': '27', 'chunk': '20', 'entity': 'PROBLEM', 'confidence': '0.63215'}, embeddings=[]), Row(annotatorType='chunk', begin=1099, end=1113, result='development r/t', metadata={'sentence': '27', 'chunk': '21', 'entity': 'PROBLEM', 'confidence': '0.73765'}, embeddings=[]), Row(annotatorType='chunk', begin=1185, end=1190, result='growth', metadata={'sentence': '27', 'chunk': '22', 'entity': 'PROBLEM', 'confidence': '0.9736'}, embeddings=[]), Row(annotatorType='chunk', begin=1284, end=1293, result='this shift', metadata={'sentence': '30', 'chunk': '23', 'entity': 'PROBLEM', 'confidence': '0.84235'}, embeddings=[])]),\n",
              " Row(ner_chunk=[Row(annotatorType='chunk', begin=43, end=46, result='sats', metadata={'sentence': '1', 'chunk': '0', 'entity': 'TEST', 'confidence': '0.9936'}, embeddings=[]), Row(annotatorType='chunk', begin=72, end=73, result='RR', metadata={'sentence': '3', 'chunk': '1', 'entity': 'TEST', 'confidence': '0.9995'}, embeddings=[]), Row(annotatorType='chunk', begin=90, end=99, result='A&B/desats', metadata={'sentence': '5', 'chunk': '2', 'entity': 'PROBLEM', 'confidence': '0.7923'}, embeddings=[]), Row(annotatorType='chunk', begin=312, end=318, result='Desitin', metadata={'sentence': '11', 'chunk': '3', 'entity': 'TREATMENT', 'confidence': '0.9996'}, embeddings=[]), Row(annotatorType='chunk', begin=344, end=347, result='rash', metadata={'sentence': '11', 'chunk': '4', 'entity': 'PROBLEM', 'confidence': '0.9983'}, embeddings=[]), Row(annotatorType='chunk', begin=352, end=363, result='Circumcision', metadata={'sentence': '12', 'chunk': '5', 'entity': 'TREATMENT', 'confidence': '0.9993'}, embeddings=[]), Row(annotatorType='chunk', begin=385, end=392, result='drainage', metadata={'sentence': '12', 'chunk': '6', 'entity': 'PROBLEM', 'confidence': '0.6976'}, embeddings=[]), Row(annotatorType='chunk', begin=404, end=419, result='vaseline\\r\\r\\ngauze', metadata={'sentence': '12', 'chunk': '7', 'entity': 'TREATMENT', 'confidence': '0.90855'}, embeddings=[]), Row(annotatorType='chunk', begin=484, end=487, result='Temp', metadata={'sentence': '15', 'chunk': '8', 'entity': 'TREATMENT', 'confidence': '0.6711'}, embeddings=[])]),\n",
              " Row(ner_chunk=[Row(annotatorType='chunk', begin=0, end=2, result='NPN', metadata={'sentence': '0', 'chunk': '0', 'entity': 'TEST', 'confidence': '0.9504'}, embeddings=[]), Row(annotatorType='chunk', begin=93, end=94, result='RR', metadata={'sentence': '3', 'chunk': '1', 'entity': 'TEST', 'confidence': '0.9999'}, embeddings=[]), Row(annotatorType='chunk', begin=104, end=105, result='LS', metadata={'sentence': '3', 'chunk': '2', 'entity': 'TEST', 'confidence': '0.9989'}, embeddings=[]), Row(annotatorType='chunk', begin=115, end=125, result='retractions', metadata={'sentence': '3', 'chunk': '3', 'entity': 'PROBLEM', 'confidence': '0.9994'}, embeddings=[]), Row(annotatorType='chunk', begin=132, end=137, result='spells', metadata={'sentence': '4', 'chunk': '4', 'entity': 'PROBLEM', 'confidence': '0.9488'}, embeddings=[]), Row(annotatorType='chunk', begin=146, end=151, result='drifts', metadata={'sentence': '5', 'chunk': '5', 'entity': 'PROBLEM', 'confidence': '0.9947'}, embeddings=[]), Row(annotatorType='chunk', begin=193, end=194, result='BW', metadata={'sentence': '7', 'chunk': '6', 'entity': 'TEST', 'confidence': '0.9793'}, embeddings=[]), Row(annotatorType='chunk', begin=203, end=204, result='CW', metadata={'sentence': '7', 'chunk': '7', 'entity': 'TEST', 'confidence': '0.9389'}, embeddings=[]), Row(annotatorType='chunk', begin=223, end=260, result='Infant feeding adlib\\r\\r\\ndemand BM/Sim20', metadata={'sentence': '8', 'chunk': '8', 'entity': 'TREATMENT', 'confidence': '0.31489998'}, embeddings=[]), Row(annotatorType='chunk', begin=312, end=318, result='overnoc', metadata={'sentence': '10', 'chunk': '9', 'entity': 'PROBLEM', 'confidence': '0.9306'}, embeddings=[]), Row(annotatorType='chunk', begin=370, end=391, result='somewhat uncoordinated', metadata={'sentence': '11', 'chunk': '10', 'entity': 'PROBLEM', 'confidence': '0.97475'}, embeddings=[]), Row(annotatorType='chunk', begin=397, end=401, result='tired', metadata={'sentence': '11', 'chunk': '11', 'entity': 'PROBLEM', 'confidence': '0.8665'}, embeddings=[]), Row(annotatorType='chunk', begin=451, end=458, result='Abd exam', metadata={'sentence': '13', 'chunk': '12', 'entity': 'TEST', 'confidence': '0.84955'}, embeddings=[]), Row(annotatorType='chunk', begin=501, end=510, result='this shift', metadata={'sentence': '14', 'chunk': '13', 'entity': 'PROBLEM', 'confidence': '0.81755'}, embeddings=[]), Row(annotatorType='chunk', begin=514, end=520, result='Desitin', metadata={'sentence': '15', 'chunk': '14', 'entity': 'TREATMENT', 'confidence': '0.9997'}, embeddings=[]), Row(annotatorType='chunk', begin=546, end=552, result='redness', metadata={'sentence': '15', 'chunk': '15', 'entity': 'PROBLEM', 'confidence': '0.9991'}, embeddings=[]), Row(annotatorType='chunk', begin=670, end=683, result='Likes pacifier', metadata={'sentence': '19', 'chunk': '16', 'entity': 'TREATMENT', 'confidence': '0.40365'}, embeddings=[]), Row(annotatorType='chunk', begin=764, end=776, result='Hep B vaccine', metadata={'sentence': '21', 'chunk': '17', 'entity': 'TREATMENT', 'confidence': '0.8412333'}, embeddings=[]), Row(annotatorType='chunk', begin=877, end=890, result='far this shift', metadata={'sentence': '22', 'chunk': '18', 'entity': 'PROBLEM', 'confidence': '0.6785'}, embeddings=[])]),\n",
              " Row(ner_chunk=[Row(annotatorType='chunk', begin=51, end=56, result='spells', metadata={'sentence': '3', 'chunk': '0', 'entity': 'PROBLEM', 'confidence': '0.9551'}, embeddings=[]), Row(annotatorType='chunk', begin=64, end=65, result='WT', metadata={'sentence': '4', 'chunk': '1', 'entity': 'TEST', 'confidence': '0.9731'}, embeddings=[]), Row(annotatorType='chunk', begin=137, end=140, result='Echo', metadata={'sentence': '8', 'chunk': '2', 'entity': 'TEST', 'confidence': '0.9992'}, embeddings=[]), Row(annotatorType='chunk', begin=226, end=231, result='mOndya', metadata={'sentence': '10', 'chunk': '3', 'entity': 'PROBLEM', 'confidence': '0.9941'}, embeddings=[])]),\n",
              " Row(ner_chunk=[Row(annotatorType='chunk', begin=22, end=47, result='PE\\r\\r\\nswaddled in open crib', metadata={'sentence': '1', 'chunk': '0', 'entity': 'PROBLEM', 'confidence': '0.61514'}, embeddings=[]), Row(annotatorType='chunk', begin=116, end=121, result='murmur', metadata={'sentence': '3', 'chunk': '1', 'entity': 'PROBLEM', 'confidence': '0.9997'}, embeddings=[]), Row(annotatorType='chunk', begin=163, end=171, result='nontender', metadata={'sentence': '3', 'chunk': '2', 'entity': 'PROBLEM', 'confidence': '0.9976'}, embeddings=[]), Row(annotatorType='chunk', begin=177, end=188, result='nondistended', metadata={'sentence': '3', 'chunk': '3', 'entity': 'PROBLEM', 'confidence': '0.9994'}, embeddings=[])]),\n",
              " Row(ner_chunk=[Row(annotatorType='chunk', begin=78, end=81, result='FIO2', metadata={'sentence': '2', 'chunk': '0', 'entity': 'TEST', 'confidence': '0.9766'}, embeddings=[]), Row(annotatorType='chunk', begin=92, end=98, result='O2 sats', metadata={'sentence': '3', 'chunk': '1', 'entity': 'TEST', 'confidence': '0.9911'}, embeddings=[]), Row(annotatorType='chunk', begin=111, end=112, result='RR', metadata={'sentence': '4', 'chunk': '2', 'entity': 'TEST', 'confidence': '0.9957'}, embeddings=[]), Row(annotatorType='chunk', begin=127, end=154, result='increase work of\\r\\r\\nbreathing', metadata={'sentence': '4', 'chunk': '3', 'entity': 'PROBLEM', 'confidence': '0.72702503'}, embeddings=[]), Row(annotatorType='chunk', begin=180, end=184, result=\"A&B's\", metadata={'sentence': '6', 'chunk': '4', 'entity': 'PROBLEM', 'confidence': '0.4648'}, embeddings=[]), Row(annotatorType='chunk', begin=192, end=201, result='this shift', metadata={'sentence': '6', 'chunk': '5', 'entity': 'PROBLEM', 'confidence': '0.92595'}, embeddings=[]), Row(annotatorType='chunk', begin=242, end=246, result='NC O2', metadata={'sentence': '7', 'chunk': '6', 'entity': 'TREATMENT', 'confidence': '0.66975'}, embeddings=[]), Row(annotatorType='chunk', begin=309, end=313, result=\"A&B's\", metadata={'sentence': '8', 'chunk': '7', 'entity': 'PROBLEM', 'confidence': '0.6636'}, embeddings=[]), Row(annotatorType='chunk', begin=327, end=356, result='additional respiratory support', metadata={'sentence': '9', 'chunk': '8', 'entity': 'TREATMENT', 'confidence': '0.75729996'}, embeddings=[]), Row(annotatorType='chunk', begin=471, end=479, result='PO Q feed', metadata={'sentence': '12', 'chunk': '9', 'entity': 'TREATMENT', 'confidence': '0.52606666'}, embeddings=[]), Row(annotatorType='chunk', begin=655, end=661, result='Monitor', metadata={'sentence': '16', 'chunk': '10', 'entity': 'TEST', 'confidence': '0.9405'}, embeddings=[]), Row(annotatorType='chunk', begin=674, end=684, result='intolerance', metadata={'sentence': '16', 'chunk': '11', 'entity': 'PROBLEM', 'confidence': '0.7746'}, embeddings=[]), Row(annotatorType='chunk', begin=819, end=838, result='Fontanelle soft/flat', metadata={'sentence': '20', 'chunk': '12', 'entity': 'TREATMENT', 'confidence': '0.4618'}, embeddings=[]), Row(annotatorType='chunk', begin=860, end=871, result='his pacifier', metadata={'sentence': '21', 'chunk': '13', 'entity': 'TREATMENT', 'confidence': '0.5858'}, embeddings=[]), Row(annotatorType='chunk', begin=902, end=958, result='Potential alteration in growth/development r/t trisomy 21', metadata={'sentence': '23', 'chunk': '14', 'entity': 'PROBLEM', 'confidence': '0.56435716'}, embeddings=[]), Row(annotatorType='chunk', begin=1015, end=1020, result='growth', metadata={'sentence': '24', 'chunk': '15', 'entity': 'PROBLEM', 'confidence': '0.983'}, embeddings=[]), Row(annotatorType='chunk', begin=1028, end=1038, result='development', metadata={'sentence': '24', 'chunk': '16', 'entity': 'PROBLEM', 'confidence': '0.937'}, embeddings=[])]),\n",
              " Row(ner_chunk=[Row(annotatorType='chunk', begin=86, end=89, result='FIO2', metadata={'sentence': '2', 'chunk': '0', 'entity': 'TREATMENT', 'confidence': '0.9317'}, embeddings=[]), Row(annotatorType='chunk', begin=100, end=107, result='distress', metadata={'sentence': '2', 'chunk': '1', 'entity': 'PROBLEM', 'confidence': '0.9974'}, embeddings=[]), Row(annotatorType='chunk', begin=116, end=134, result='apneas/bradycardias', metadata={'sentence': '2', 'chunk': '2', 'entity': 'PROBLEM', 'confidence': '0.9995'}, embeddings=[]), Row(annotatorType='chunk', begin=145, end=150, result='murmur', metadata={'sentence': '3', 'chunk': '3', 'entity': 'PROBLEM', 'confidence': '0.9996'}, embeddings=[]), Row(annotatorType='chunk', begin=159, end=160, result='BP', metadata={'sentence': '4', 'chunk': '4', 'entity': 'TEST', 'confidence': '0.9998'}, embeddings=[]), Row(annotatorType='chunk', begin=188, end=215, result='partial exchange transfusion', metadata={'sentence': '5', 'chunk': '5', 'entity': 'TREATMENT', 'confidence': '0.8799'}, embeddings=[]), Row(annotatorType='chunk', begin=232, end=243, result='polycythemia', metadata={'sentence': '5', 'chunk': '6', 'entity': 'PROBLEM', 'confidence': '0.9996'}, embeddings=[]), Row(annotatorType='chunk', begin=246, end=258, result='hct increased', metadata={'sentence': '5', 'chunk': '7', 'entity': 'PROBLEM', 'confidence': '0.8495'}, embeddings=[]), Row(annotatorType='chunk', begin=273, end=288, result='thrombocytopenia', metadata={'sentence': '5', 'chunk': '8', 'entity': 'PROBLEM', 'confidence': '0.9996'}, embeddings=[]), Row(annotatorType='chunk', begin=294, end=315, result='pulmonary hypertension', metadata={'sentence': '5', 'chunk': '9', 'entity': 'PROBLEM', 'confidence': '0.9625'}, embeddings=[]), Row(annotatorType='chunk', begin=318, end=320, result='Hct', metadata={'sentence': '6', 'chunk': '10', 'entity': 'TEST', 'confidence': '0.9995'}, embeddings=[]), Row(annotatorType='chunk', begin=352, end=370, result='single phototherapy', metadata={'sentence': '7', 'chunk': '11', 'entity': 'TREATMENT', 'confidence': '0.68465'}, embeddings=[]), Row(annotatorType='chunk', begin=377, end=385, result='bilirubin', metadata={'sentence': '7', 'chunk': '12', 'entity': 'TEST', 'confidence': '0.8585'}, embeddings=[]), Row(annotatorType='chunk', begin=439, end=446, result='amp/gent', metadata={'sentence': '8', 'chunk': '13', 'entity': 'TEST', 'confidence': '0.8855'}, embeddings=[]), Row(annotatorType='chunk', begin=449, end=459, result='Gent trough', metadata={'sentence': '9', 'chunk': '14', 'entity': 'TEST', 'confidence': '0.97705'}, embeddings=[]), Row(annotatorType='chunk', begin=475, end=481, result='Culture', metadata={'sentence': '10', 'chunk': '15', 'entity': 'TEST', 'confidence': '0.9849'}, embeddings=[]), Row(annotatorType='chunk', begin=506, end=507, result='Wt', metadata={'sentence': '11', 'chunk': '16', 'entity': 'TEST', 'confidence': '0.9875'}, embeddings=[]), Row(annotatorType='chunk', begin=550, end=552, result='NPO', metadata={'sentence': '12', 'chunk': '17', 'entity': 'TREATMENT', 'confidence': '0.9241'}, embeddings=[]), Row(annotatorType='chunk', begin=557, end=564, result='D10W PIV', metadata={'sentence': '12', 'chunk': '18', 'entity': 'TREATMENT', 'confidence': '0.8815'}, embeddings=[]), Row(annotatorType='chunk', begin=567, end=573, result='D-stick', metadata={'sentence': '13', 'chunk': '19', 'entity': 'TEST', 'confidence': '0.9996'}, embeddings=[]), Row(annotatorType='chunk', begin=579, end=583, result='Lytes', metadata={'sentence': '14', 'chunk': '20', 'entity': 'TEST', 'confidence': '0.9994'}, embeddings=[]), Row(annotatorType='chunk', begin=613, end=624, result='Urine output', metadata={'sentence': '16', 'chunk': '21', 'entity': 'TEST', 'confidence': '0.982'}, embeddings=[]), Row(annotatorType='chunk', begin=664, end=667, result='Temp', metadata={'sentence': '18', 'chunk': '22', 'entity': 'TEST', 'confidence': '0.7188'}, embeddings=[]), Row(annotatorType='chunk', begin=683, end=688, result='warmer', metadata={'sentence': '18', 'chunk': '23', 'entity': 'TREATMENT', 'confidence': '0.9782'}, embeddings=[]), Row(annotatorType='chunk', begin=696, end=707, result='FISH studies', metadata={'sentence': '19', 'chunk': '24', 'entity': 'TEST', 'confidence': '0.99'}, embeddings=[]), Row(annotatorType='chunk', begin=729, end=735, result='trisomy', metadata={'sentence': '19', 'chunk': '25', 'entity': 'PROBLEM', 'confidence': '0.9796'}, embeddings=[]), Row(annotatorType='chunk', begin=741, end=756, result='formal karyotype', metadata={'sentence': '19', 'chunk': '26', 'entity': 'TEST', 'confidence': '0.64305'}, embeddings=[]), Row(annotatorType='chunk', begin=775, end=777, result='A&P', metadata={'sentence': '20', 'chunk': '27', 'entity': 'PROBLEM', 'confidence': '0.6629'}, embeddings=[]), Row(annotatorType='chunk', begin=803, end=812, result='trisomy 21', metadata={'sentence': '21', 'chunk': '28', 'entity': 'PROBLEM', 'confidence': '0.59775'}, embeddings=[]), Row(annotatorType='chunk', begin=837, end=840, result='FiO2', metadata={'sentence': '21', 'chunk': '29', 'entity': 'TREATMENT', 'confidence': '0.9695'}, embeddings=[]), Row(annotatorType='chunk', begin=863, end=866, result='SaO2', metadata={'sentence': '21', 'chunk': '30', 'entity': 'TEST', 'confidence': '0.4714'}, embeddings=[]), Row(annotatorType='chunk', begin=887, end=895, result='vigilance', metadata={'sentence': '21', 'chunk': '31', 'entity': 'TEST', 'confidence': '0.994'}, embeddings=[]), Row(annotatorType='chunk', begin=901, end=931, result='hemodynamic consequences of PDA', metadata={'sentence': '21', 'chunk': '32', 'entity': 'PROBLEM', 'confidence': '0.658225'}, embeddings=[]), Row(annotatorType='chunk', begin=936, end=974, result='pulmonary vascular resistance decreases', metadata={'sentence': '21', 'chunk': '33', 'entity': 'PROBLEM', 'confidence': '0.703675'}, embeddings=[]), Row(annotatorType='chunk', begin=990, end=1002, result='trophic feeds', metadata={'sentence': '21', 'chunk': '34', 'entity': 'TREATMENT', 'confidence': '0.48985'}, embeddings=[]), Row(annotatorType='chunk', begin=1013, end=1043, result='Discontinue antibiotic coverage', metadata={'sentence': '21', 'chunk': '35', 'entity': 'TREATMENT', 'confidence': '0.58746666'}, embeddings=[]), Row(annotatorType='chunk', begin=1072, end=1074, result='WBC', metadata={'sentence': '21', 'chunk': '36', 'entity': 'TEST', 'confidence': '0.961'}, embeddings=[]), Row(annotatorType='chunk', begin=1082, end=1107, result='resolving thrombocytopenia', metadata={'sentence': '21', 'chunk': '37', 'entity': 'PROBLEM', 'confidence': '0.8185'}, embeddings=[]), Row(annotatorType='chunk', begin=1121, end=1132, result='phototherapy', metadata={'sentence': '21', 'chunk': '38', 'entity': 'TREATMENT', 'confidence': '0.2733'}, embeddings=[]), Row(annotatorType='chunk', begin=1138, end=1153, result='repeat bilirubin', metadata={'sentence': '21', 'chunk': '39', 'entity': 'TEST', 'confidence': '0.7713'}, embeddings=[]), Row(annotatorType='chunk', begin=1248, end=1262, result=\"Down's syndrome\", metadata={'sentence': '21', 'chunk': '40', 'entity': 'PROBLEM', 'confidence': '0.78645'}, embeddings=[])]),\n",
              " Row(ner_chunk=[Row(annotatorType='chunk', begin=62, end=72, result='open warmer', metadata={'sentence': '1', 'chunk': '0', 'entity': 'TREATMENT', 'confidence': '0.49774998'}, embeddings=[]), Row(annotatorType='chunk', begin=85, end=88, result='exam', metadata={'sentence': '1', 'chunk': '1', 'entity': 'TEST', 'confidence': '0.9993'}, embeddings=[]), Row(annotatorType='chunk', begin=91, end=94, result='AFOS', metadata={'sentence': '1', 'chunk': '2', 'entity': 'TEST', 'confidence': '0.9171'}, embeddings=[]), Row(annotatorType='chunk', begin=97, end=103, result='sutures', metadata={'sentence': '1', 'chunk': '3', 'entity': 'TREATMENT', 'confidence': '0.8735'}, embeddings=[]), Row(annotatorType='chunk', begin=129, end=145, result='sl hypotonic tone', metadata={'sentence': '1', 'chunk': '4', 'entity': 'PROBLEM', 'confidence': '0.9037667'}, embeddings=[]), Row(annotatorType='chunk', begin=150, end=153, result='exam', metadata={'sentence': '1', 'chunk': '5', 'entity': 'TEST', 'confidence': '0.8249'}, embeddings=[]), Row(annotatorType='chunk', begin=182, end=194, result='breath sounds', metadata={'sentence': '2', 'chunk': '6', 'entity': 'TEST', 'confidence': '0.67935'}, embeddings=[]), Row(annotatorType='chunk', begin=212, end=222, result='retractions', metadata={'sentence': '2', 'chunk': '7', 'entity': 'PROBLEM', 'confidence': '0.998'}, embeddings=[]), Row(annotatorType='chunk', begin=277, end=290, result='audible murmur', metadata={'sentence': '3', 'chunk': '8', 'entity': 'PROBLEM', 'confidence': '0.944'}, embeddings=[]), Row(annotatorType='chunk', begin=295, end=298, result='exam', metadata={'sentence': '3', 'chunk': '9', 'entity': 'TEST', 'confidence': '0.8676'}, embeddings=[]), Row(annotatorType='chunk', begin=301, end=306, result='pulses', metadata={'sentence': '3', 'chunk': '10', 'entity': 'TEST', 'confidence': '0.9781'}, embeddings=[]), Row(annotatorType='chunk', begin=322, end=331, result='cap refill', metadata={'sentence': '3', 'chunk': '11', 'entity': 'TEST', 'confidence': '0.68945'}, embeddings=[]), Row(annotatorType='chunk', begin=396, end=402, result='lesions', metadata={'sentence': '4', 'chunk': '12', 'entity': 'PROBLEM', 'confidence': '0.9993'}, embeddings=[]), Row(annotatorType='chunk', begin=407, end=413, result='bruises', metadata={'sentence': '4', 'chunk': '13', 'entity': 'PROBLEM', 'confidence': '0.9901'}, embeddings=[]), Row(annotatorType='chunk', begin=418, end=421, result='exam', metadata={'sentence': '4', 'chunk': '14', 'entity': 'TEST', 'confidence': '0.7639'}, embeddings=[]), Row(annotatorType='chunk', begin=451, end=454, result='exam', metadata={'sentence': '4', 'chunk': '15', 'entity': 'TEST', 'confidence': '0.9466'}, embeddings=[]), Row(annotatorType='chunk', begin=504, end=506, result='HSM', metadata={'sentence': '5', 'chunk': '16', 'entity': 'PROBLEM', 'confidence': '0.9992'}, embeddings=[]), Row(annotatorType='chunk', begin=512, end=526, result='palpable masses', metadata={'sentence': '5', 'chunk': '17', 'entity': 'PROBLEM', 'confidence': '0.98759997'}, embeddings=[]), Row(annotatorType='chunk', begin=531, end=534, result='exam', metadata={'sentence': '5', 'chunk': '18', 'entity': 'TEST', 'confidence': '0.5785'}, embeddings=[])])]"
            ]
          },
          "metadata": {
            "tags": []
          },
          "execution_count": 18
        }
      ]
    },
    {
      "cell_type": "code",
      "metadata": {
        "colab": {
          "base_uri": "https://localhost:8080/"
        },
        "id": "iICfEeNoAklD",
        "outputId": "2e2a10cf-a54f-41f2-ed28-2fbe0afda8db"
      },
      "source": [
        "from pyspark.sql import functions as F\n",
        "\n",
        "result.select(F.explode(F.arrays_zip('ner_chunk.result', 'ner_chunk.metadata')).alias(\"cols\")) \\\n",
        ".select(F.expr(\"cols['0']\").alias(\"chunk\"),\n",
        "        F.expr(\"cols['1']['entity']\").alias(\"ner_label\")).show(truncate=False)"
      ],
      "execution_count": null,
      "outputs": [
        {
          "output_type": "stream",
          "text": [
            "+------------------------+---------+\n",
            "|chunk                   |ner_label|\n",
            "+------------------------+---------+\n",
            "|SEVERAL DOWN'S FEATURES |PROBLEM  |\n",
            "|O2 SAT                  |TEST     |\n",
            "|NASAL CANNULA O2        |PROBLEM  |\n",
            "|EKG                     |TEST     |\n",
            "|ABG                     |TEST     |\n",
            "|O2 SAT                  |TEST     |\n",
            "|DUCTAL                  |TEST     |\n",
            "|DUCTAL                  |TEST     |\n",
            "|NASAL CANNULA O2        |TREATMENT|\n",
            "|MURMUR AUDIBLE          |PROBLEM  |\n",
            "|HR                      |TEST     |\n",
            "|CBC                     |TEST     |\n",
            "|BLD CX AND KAROTYPE SENT|PROBLEM  |\n",
            "|D/S WAS                 |TREATMENT|\n",
            "|IV PLACED               |TREATMENT|\n",
            "|STARTED IVF             |TREATMENT|\n",
            "|D10W                    |TREATMENT|\n",
            "|60CC/K/D                |TREATMENT|\n",
            "|WBC WAS                 |TEST     |\n",
            "|POLY                    |TEST     |\n",
            "+------------------------+---------+\n",
            "only showing top 20 rows\n",
            "\n"
          ],
          "name": "stdout"
        }
      ]
    },
    {
      "cell_type": "code",
      "metadata": {
        "id": "Um2zo-Kk1GP_",
        "colab": {
          "base_uri": "https://localhost:8080/",
          "height": 728
        },
        "outputId": "f4a6c5d3-d43c-4b80-b565-ab5f2da52083"
      },
      "source": [
        "from sparknlp_display import NerVisualizer\n",
        "\n",
        "NerVisualizer().display(\n",
        "    result = result.collect()[0],\n",
        "    label_col = 'ner_chunk',\n",
        "    document_col = 'document'\n",
        ")"
      ],
      "execution_count": null,
      "outputs": [
        {
          "output_type": "display_data",
          "data": {
            "text/html": [
              "\n",
              "<style>\n",
              "    @import url('https://fonts.googleapis.com/css2?family=Montserrat:wght@300;400;500;600;700&display=swap');\n",
              "    @import url('https://fonts.googleapis.com/css2?family=Vistol Regular:wght@300;400;500;600;700&display=swap');\n",
              "    \n",
              "    .spark-nlp-display-scroll-entities {\n",
              "        border: 1px solid #E7EDF0;\n",
              "        border-radius: 3px;\n",
              "        text-align: justify;\n",
              "        \n",
              "    }\n",
              "    .spark-nlp-display-scroll-entities span {  \n",
              "        font-size: 14px;\n",
              "        line-height: 24px;\n",
              "        color: #536B76;\n",
              "        font-family: 'Montserrat', sans-serif !important;\n",
              "    }\n",
              "    \n",
              "    .spark-nlp-display-entity-wrapper{\n",
              "    \n",
              "        display: inline-grid;\n",
              "        text-align: center;\n",
              "        border-radius: 4px;\n",
              "        margin: 0 2px 5px 2px;\n",
              "        padding: 1px\n",
              "    }\n",
              "    .spark-nlp-display-entity-name{\n",
              "        font-size: 14px;\n",
              "        line-height: 24px;\n",
              "        font-family: 'Montserrat', sans-serif !important;\n",
              "        \n",
              "        background: #f1f2f3;\n",
              "        border-width: medium;\n",
              "        text-align: center;\n",
              "        \n",
              "        font-weight: 400;\n",
              "        \n",
              "        border-radius: 5px;\n",
              "        padding: 2px 5px;\n",
              "        display: block;\n",
              "        margin: 3px 2px;\n",
              "    \n",
              "    }\n",
              "    .spark-nlp-display-entity-type{\n",
              "        font-size: 14px;\n",
              "        line-height: 24px;\n",
              "        color: #ffffff;\n",
              "        font-family: 'Montserrat', sans-serif !important;\n",
              "        \n",
              "        text-transform: uppercase;\n",
              "        \n",
              "        font-weight: 500;\n",
              "\n",
              "        display: block;\n",
              "        padding: 3px 5px;\n",
              "    }\n",
              "    \n",
              "    .spark-nlp-display-entity-resolution{\n",
              "        font-size: 14px;\n",
              "        line-height: 24px;\n",
              "        color: #ffffff;\n",
              "        font-family: 'Vistol Regular', sans-serif !important;\n",
              "        \n",
              "        text-transform: uppercase;\n",
              "        \n",
              "        font-weight: 500;\n",
              "\n",
              "        display: block;\n",
              "        padding: 3px 5px;\n",
              "    }\n",
              "    \n",
              "    .spark-nlp-display-others{\n",
              "        font-size: 14px;\n",
              "        line-height: 24px;\n",
              "        font-family: 'Montserrat', sans-serif !important;\n",
              "        \n",
              "        font-weight: 400;\n",
              "    }\n",
              "\n",
              "</style>\n",
              " <span class=\"spark-nlp-display-others\" style=\"background-color: white\">NICU NURSING ADMIT NOTE\r\r<br>THIS IS A FULL TERM MALE [** **] TO A 31 YR OLD G2 P2 MOM. BABY WAS [**Name2 (NI) **] VAGINALLY WITH APGARS OF 8,8. NICU ATTENDED THE DELIVERY DUE TO MEC STAINED FLUID. NEONATOLOGIST NOTED AT BIRTH BABY HAD </span><span class=\"spark-nlp-display-entity-wrapper\" style=\"background-color: #800080\"><span class=\"spark-nlp-display-entity-name\">SEVERAL DOWN'S FEATURES </span><span class=\"spark-nlp-display-entity-type\">PROBLEM</span></span><span class=\"spark-nlp-display-others\" style=\"background-color: white\">. SHE SPOKE WITH PARENTS AND THEY AGREED TO HAVE KAROTYPE DRAWN NOW. BABY SENT TO NICU FOR BLOOD DRAW. UPON ADMIT TO NICU BABY PLACED ON MONITOR AND NOTED TO HAVE </span><span class=\"spark-nlp-display-entity-wrapper\" style=\"background-color: #77b5fe\"><span class=\"spark-nlp-display-entity-name\">O2 SAT </span><span class=\"spark-nlp-display-entity-type\">TEST</span></span><span class=\"spark-nlp-display-others\" style=\"background-color: white\"> OF 84 IN RA. BABY PLACED IN </span><span class=\"spark-nlp-display-entity-wrapper\" style=\"background-color: #800080\"><span class=\"spark-nlp-display-entity-name\">NASAL CANNULA O2 </span><span class=\"spark-nlp-display-entity-type\">PROBLEM</span></span><span class=\"spark-nlp-display-others\" style=\"background-color: white\">, AND CARDIAC WORK UP STARTED. CXRAY DONE, WNL. </span><span class=\"spark-nlp-display-entity-wrapper\" style=\"background-color: #77b5fe\"><span class=\"spark-nlp-display-entity-name\">EKG </span><span class=\"spark-nlp-display-entity-type\">TEST</span></span><span class=\"spark-nlp-display-others\" style=\"background-color: white\"> DONE, WNL. HYPEROXYIA TEST DONE SEVERAL TIMES. </span><span class=\"spark-nlp-display-entity-wrapper\" style=\"background-color: #77b5fe\"><span class=\"spark-nlp-display-entity-name\">ABG </span><span class=\"spark-nlp-display-entity-type\">TEST</span></span><span class=\"spark-nlp-display-others\" style=\"background-color: white\"> CLOTTED TWICE. [**First Name9 (NamePattern2) **] [**Location (un) **] DONE TWICE, FIRST WAS 118, SECOND ATTEMPT WAS 128. </span><span class=\"spark-nlp-display-entity-wrapper\" style=\"background-color: #77b5fe\"><span class=\"spark-nlp-display-entity-name\">O2 SAT </span><span class=\"spark-nlp-display-entity-type\">TEST</span></span><span class=\"spark-nlp-display-others\" style=\"background-color: white\"> PRE </span><span class=\"spark-nlp-display-entity-wrapper\" style=\"background-color: #77b5fe\"><span class=\"spark-nlp-display-entity-name\">DUCTAL </span><span class=\"spark-nlp-display-entity-type\">TEST</span></span><span class=\"spark-nlp-display-others\" style=\"background-color: white\"> 95%, AND POST </span><span class=\"spark-nlp-display-entity-wrapper\" style=\"background-color: #77b5fe\"><span class=\"spark-nlp-display-entity-name\">DUCTAL </span><span class=\"spark-nlp-display-entity-type\">TEST</span></span><span class=\"spark-nlp-display-others\" style=\"background-color: white\"> 94% IN </span><span class=\"spark-nlp-display-entity-wrapper\" style=\"background-color: #8b6673\"><span class=\"spark-nlp-display-entity-name\">NASAL CANNULA O2 </span><span class=\"spark-nlp-display-entity-type\">TREATMENT</span></span><span class=\"spark-nlp-display-others\" style=\"background-color: white\">. BABY IS CURRENTLY IN 1LITER OF 02 TO KEEP O2 SAT GREATER THAN 94%. THERE IS NO </span><span class=\"spark-nlp-display-entity-wrapper\" style=\"background-color: #800080\"><span class=\"spark-nlp-display-entity-name\">MURMUR AUDIBLE </span><span class=\"spark-nlp-display-entity-type\">PROBLEM</span></span><span class=\"spark-nlp-display-others\" style=\"background-color: white\"> THUS FAR. </span><span class=\"spark-nlp-display-entity-wrapper\" style=\"background-color: #77b5fe\"><span class=\"spark-nlp-display-entity-name\">HR </span><span class=\"spark-nlp-display-entity-type\">TEST</span></span><span class=\"spark-nlp-display-others\" style=\"background-color: white\"> 140'S. 4 EXTREMITIY BP'S DONE, SEE FLOW SHEET. TCH CARDIOLOGY CALLED FOR CONSULT AND ECHO TONIGHT. </span><span class=\"spark-nlp-display-entity-wrapper\" style=\"background-color: #77b5fe\"><span class=\"spark-nlp-display-entity-name\">CBC </span><span class=\"spark-nlp-display-entity-type\">TEST</span></span><span class=\"spark-nlp-display-others\" style=\"background-color: white\"> AND </span><span class=\"spark-nlp-display-entity-wrapper\" style=\"background-color: #800080\"><span class=\"spark-nlp-display-entity-name\">BLD CX AND KAROTYPE SENT </span><span class=\"spark-nlp-display-entity-type\">PROBLEM</span></span><span class=\"spark-nlp-display-others\" style=\"background-color: white\">. </span><span class=\"spark-nlp-display-entity-wrapper\" style=\"background-color: #8b6673\"><span class=\"spark-nlp-display-entity-name\">D/S WAS </span><span class=\"spark-nlp-display-entity-type\">TREATMENT</span></span><span class=\"spark-nlp-display-others\" style=\"background-color: white\"> 40. </span><span class=\"spark-nlp-display-entity-wrapper\" style=\"background-color: #8b6673\"><span class=\"spark-nlp-display-entity-name\">IV PLACED </span><span class=\"spark-nlp-display-entity-type\">TREATMENT</span></span><span class=\"spark-nlp-display-others\" style=\"background-color: white\"> AND </span><span class=\"spark-nlp-display-entity-wrapper\" style=\"background-color: #8b6673\"><span class=\"spark-nlp-display-entity-name\">STARTED IVF </span><span class=\"spark-nlp-display-entity-type\">TREATMENT</span></span><span class=\"spark-nlp-display-others\" style=\"background-color: white\"> OF </span><span class=\"spark-nlp-display-entity-wrapper\" style=\"background-color: #8b6673\"><span class=\"spark-nlp-display-entity-name\">D10W </span><span class=\"spark-nlp-display-entity-type\">TREATMENT</span></span><span class=\"spark-nlp-display-others\" style=\"background-color: white\"> AT </span><span class=\"spark-nlp-display-entity-wrapper\" style=\"background-color: #8b6673\"><span class=\"spark-nlp-display-entity-name\">60CC/K/D </span><span class=\"spark-nlp-display-entity-type\">TREATMENT</span></span><span class=\"spark-nlp-display-others\" style=\"background-color: white\">. WILL NEED REPEAT D/S AT 8PM. WILL START ANTIBXS THIS EVE. </span><span class=\"spark-nlp-display-entity-wrapper\" style=\"background-color: #77b5fe\"><span class=\"spark-nlp-display-entity-name\">WBC WAS </span><span class=\"spark-nlp-display-entity-type\">TEST</span></span><span class=\"spark-nlp-display-others\" style=\"background-color: white\"> 13.8, </span><span class=\"spark-nlp-display-entity-wrapper\" style=\"background-color: #77b5fe\"><span class=\"spark-nlp-display-entity-name\">POLY </span><span class=\"spark-nlp-display-entity-type\">TEST</span></span><span class=\"spark-nlp-display-others\" style=\"background-color: white\"> 78, </span><span class=\"spark-nlp-display-entity-wrapper\" style=\"background-color: #77b5fe\"><span class=\"spark-nlp-display-entity-name\">BANDS </span><span class=\"spark-nlp-display-entity-type\">TEST</span></span><span class=\"spark-nlp-display-others\" style=\"background-color: white\"> 4, </span><span class=\"spark-nlp-display-entity-wrapper\" style=\"background-color: #77b5fe\"><span class=\"spark-nlp-display-entity-name\">LYMPHS </span><span class=\"spark-nlp-display-entity-type\">TEST</span></span><span class=\"spark-nlp-display-others\" style=\"background-color: white\"> 12. </span><span class=\"spark-nlp-display-entity-wrapper\" style=\"background-color: #77b5fe\"><span class=\"spark-nlp-display-entity-name\">PLT CT </span><span class=\"spark-nlp-display-entity-type\">TEST</span></span><span class=\"spark-nlp-display-others\" style=\"background-color: white\"> 38. </span><span class=\"spark-nlp-display-entity-wrapper\" style=\"background-color: #77b5fe\"><span class=\"spark-nlp-display-entity-name\">REPEAT PLT </span><span class=\"spark-nlp-display-entity-type\">TEST</span></span><span class=\"spark-nlp-display-others\" style=\"background-color: white\"> 65, AND </span><span class=\"spark-nlp-display-entity-wrapper\" style=\"background-color: #77b5fe\"><span class=\"spark-nlp-display-entity-name\">REPEAT HCT </span><span class=\"spark-nlp-display-entity-type\">TEST</span></span><span class=\"spark-nlp-display-others\" style=\"background-color: white\"> 61.4. WILL REPEAT HCT AND </span><span class=\"spark-nlp-display-entity-wrapper\" style=\"background-color: #77b5fe\"><span class=\"spark-nlp-display-entity-name\">PLT CT </span><span class=\"spark-nlp-display-entity-type\">TEST</span></span><span class=\"spark-nlp-display-others\" style=\"background-color: white\"> IN THE MORNING. CONTINUE TO MONITOR </span><span class=\"spark-nlp-display-entity-wrapper\" style=\"background-color: #800080\"><span class=\"spark-nlp-display-entity-name\">ALL SYSTEMS CLOSELY </span><span class=\"spark-nlp-display-entity-type\">PROBLEM</span></span><span class=\"spark-nlp-display-others\" style=\"background-color: white\">. WEAN O2 AS TOL. </span><span class=\"spark-nlp-display-entity-wrapper\" style=\"background-color: #77b5fe\"><span class=\"spark-nlp-display-entity-name\">BABY NEEDS ECHO </span><span class=\"spark-nlp-display-entity-type\">TEST</span></span><span class=\"spark-nlp-display-others\" style=\"background-color: white\"> TONIGHT TO R/O </span><span class=\"spark-nlp-display-entity-wrapper\" style=\"background-color: #800080\"><span class=\"spark-nlp-display-entity-name\">CARDIAC LESION </span><span class=\"spark-nlp-display-entity-type\">PROBLEM</span></span><span class=\"spark-nlp-display-others\" style=\"background-color: white\">.\r\r<br></span></div>"
            ],
            "text/plain": [
              "<IPython.core.display.HTML object>"
            ]
          },
          "metadata": {
            "tags": []
          }
        }
      ]
    }
  ]
}